{
 "cells": [
  {
   "cell_type": "code",
   "execution_count": null,
   "id": "0ca64987",
   "metadata": {},
   "outputs": [],
   "source": [
    "class AvgAdj:\n",
    "    def __init__(self, data):\n",
    "        self.__data = data\n",
    "        self.__len = len(data)\n",
    "        self.__first = 0\n",
    "        self.__second = 1\n",
    "\n",
    "    def __iter__(self):\n",
    "        return self\n",
    "\n",
    "    def __next__(self):\n",
    "        if self.__second == self.__len:\n",
    "            raise StopIteration\n",
    "        self.__avg = (self.__data[self.__first]+self.__data[self.__second])/2\n",
    "        self.__first += 1\n",
    "        self.__second += 1\n",
    "        return self.__avg\n",
    "lst=[10,20,30,40,50,60]    \n",
    "coll=AvgAdj(lst)\n",
    "for val in coll:\n",
    "    print(val)\n"
   ]
  }
 ],
 "metadata": {
  "language_info": {
   "name": "python"
  }
 },
 "nbformat": 4,
 "nbformat_minor": 5
}
