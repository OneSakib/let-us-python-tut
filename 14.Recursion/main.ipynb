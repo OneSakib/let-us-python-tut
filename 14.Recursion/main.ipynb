{
 "cells": [
  {
   "cell_type": "code",
   "execution_count": null,
   "id": "98bae988",
   "metadata": {},
   "outputs": [],
   "source": [
    "# def fact(n):\n",
    "#     if n == 0:\n",
    "#         return 1\n",
    "#     else:\n",
    "#         p = n*fact(n-1)\n",
    "#     return p\n",
    "# num=int(input(\"Enter Number:\"))\n",
    "# res=fact(num)\n",
    "# print(\"Factorial of {} is {}\".format(num,res))\n",
    "\n",
    "# def generate(n):\n",
    "#     lol = [[] for i in range(n**n)]\n",
    "#     pos = 0    \n",
    "#     for i in range(1, n+1):\n",
    "#         for j in range(1, n+1):\n",
    "#             for k in range(1, n+1):\n",
    "#                 t = [i, j, k]\n",
    "#                 lol[pos] = t                \n",
    "#                 pos += 1\n",
    "#     return lol\n",
    "\n",
    "\n",
    "# data = generate(3)\n",
    "# print(\">>>>>>>>data\", data)\n",
    "\n",
    "def generate(n):\n",
    "    t=[]\n",
    "    lol=[[] for i in range(n**n)]\n",
    "    helper(n,t,lol)\n",
    "    return lol\n",
    "def helper(n,t,lol):\n",
    "    global j\n",
    "    if len(t)==n:\n",
    "        lol[j]=lol[j]+t\n",
    "        j+=1\n",
    "        return \n",
    "    for i in range(1,n+1):\n",
    "        t.append(i)\n",
    "        helper(n,t,lol)\n",
    "        t.pop()\n",
    "\n",
    "\n",
    "\n",
    "j=0 \n",
    "l=generate(3)\n",
    "print(l)"
   ]
  }
 ],
 "metadata": {
  "language_info": {
   "name": "python"
  }
 },
 "nbformat": 4,
 "nbformat_minor": 5
}
