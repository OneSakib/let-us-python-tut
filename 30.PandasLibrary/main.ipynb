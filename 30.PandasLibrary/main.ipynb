{
 "cells": [
  {
   "cell_type": "code",
   "execution_count": 1,
   "id": "861ed2a4",
   "metadata": {},
   "outputs": [
    {
     "name": "stdout",
     "output_type": "stream",
     "text": [
      "Requirement already satisfied: pandas in c:\\users\\malik\\desktop\\let-us-python-tut\\.venv\\lib\\site-packages (2.3.1)\n",
      "Requirement already satisfied: numpy>=1.23.2 in c:\\users\\malik\\desktop\\let-us-python-tut\\.venv\\lib\\site-packages (from pandas) (2.3.1)\n",
      "Requirement already satisfied: python-dateutil>=2.8.2 in c:\\users\\malik\\desktop\\let-us-python-tut\\.venv\\lib\\site-packages (from pandas) (2.9.0.post0)\n",
      "Requirement already satisfied: pytz>=2020.1 in c:\\users\\malik\\desktop\\let-us-python-tut\\.venv\\lib\\site-packages (from pandas) (2025.2)\n",
      "Requirement already satisfied: tzdata>=2022.7 in c:\\users\\malik\\desktop\\let-us-python-tut\\.venv\\lib\\site-packages (from pandas) (2025.2)\n",
      "Requirement already satisfied: six>=1.5 in c:\\users\\malik\\desktop\\let-us-python-tut\\.venv\\lib\\site-packages (from python-dateutil>=2.8.2->pandas) (1.17.0)\n",
      "Requirement already satisfied: numpy in c:\\users\\malik\\desktop\\let-us-python-tut\\.venv\\lib\\site-packages (2.3.1)\n"
     ]
    }
   ],
   "source": [
    "! pip install pandas\n",
    "! pip install numpy"
   ]
  },
  {
   "cell_type": "code",
   "execution_count": 2,
   "id": "8b60f49a",
   "metadata": {},
   "outputs": [],
   "source": [
    "import numpy as np\n",
    "import pandas as pd"
   ]
  },
  {
   "cell_type": "code",
   "execution_count": 3,
   "id": "ead5898d",
   "metadata": {},
   "outputs": [
    {
     "name": "stdout",
     "output_type": "stream",
     "text": [
      "Series([], dtype: object)\n",
      "\n",
      "0    a\n",
      "1    e\n",
      "2    i\n",
      "3    o\n",
      "4    u\n",
      "dtype: object\n"
     ]
    }
   ],
   "source": [
    "ser1=pd.Series()\n",
    "print(ser1,end=\"\\n\\n\")\n",
    "data=np.array(['a','e','i','o','u'])\n",
    "ser2=pd.Series(data)\n",
    "print(ser2)"
   ]
  },
  {
   "cell_type": "code",
   "execution_count": 7,
   "id": "f3d770c8",
   "metadata": {},
   "outputs": [
    {
     "name": "stdout",
     "output_type": "stream",
     "text": [
      "0      sam\n",
      "1    Prash\n",
      "2      Raj\n",
      "3    Kulki\n",
      "4      Adi\n",
      "dtype: object\n",
      "\n",
      "0      sam\n",
      "1    Prash\n",
      "2      Raj\n",
      "3    Kulki\n",
      "4      Adi\n",
      "dtype: object\n",
      "\n",
      "sam      23\n",
      "Prash    25\n",
      "Raj      90\n",
      "Kulki    66\n",
      "Adi      34\n",
      "dtype: int64\n"
     ]
    }
   ],
   "source": [
    "lst=['sam','Prash','Raj','Kulki','Adi']\n",
    "ser1=pd.Series(lst)\n",
    "print(ser1,end=\"\\n\\n\")\n",
    "tpl=('sam','Prash','Raj','Kulki','Adi')\n",
    "ser2=pd.Series(tpl)\n",
    "print(ser2,end=\"\\n\\n\")\n",
    "dt={'sam':23,'Prash':25,'Raj':90,'Kulki':66,'Adi':34}\n",
    "ser3=pd.Series(dt)\n",
    "print(ser3)\n"
   ]
  },
  {
   "cell_type": "code",
   "execution_count": 9,
   "id": "bcc7f9ee",
   "metadata": {},
   "outputs": [
    {
     "name": "stdout",
     "output_type": "stream",
     "text": [
      "0    10\n",
      "1    20\n",
      "2    30\n",
      "3    40\n",
      "dtype: int64\n",
      "\n",
      "0            10\n",
      "1         Sakib\n",
      "2         Malik\n",
      "3    8954664647\n",
      "dtype: object\n",
      "\n"
     ]
    }
   ],
   "source": [
    "# Same data type\n",
    "data1=[10,20,30,40]\n",
    "data2=[10,'Sakib','Malik',8954664647]\n",
    "ser1=pd.Series(data1)\n",
    "ser2=pd.Series(data2)\n",
    "print(ser1,end=\"\\n\\n\")\n",
    "print(ser2,end=\"\\n\\n\")"
   ]
  },
  {
   "cell_type": "code",
   "execution_count": 21,
   "id": "f93afb04",
   "metadata": {},
   "outputs": [
    {
     "name": "stdout",
     "output_type": "stream",
     "text": [
      "(5,)\n",
      "5\n",
      "1\n",
      "1\n",
      "<U1\n",
      "object\n",
      "RangeIndex(start=0, stop=5, step=1)\n",
      "['a' 'e' 'i' 'o' 'u']\n",
      "a    1\n",
      "e    1\n",
      "i    1\n",
      "o    1\n",
      "u    1\n",
      "Name: count, dtype: int64\n",
      "False\n"
     ]
    }
   ],
   "source": [
    "# Properties\n",
    "data=np.array(['a','e','i','o','u'])\n",
    "ser=pd.Series(data)\n",
    "print(ser.shape)\n",
    "print(ser.size)\n",
    "print(ser.ndim)\n",
    "print(data.ndim)\n",
    "print(data.dtype)\n",
    "print(ser.dtype)\n",
    "# print(data.index)\n",
    "print(ser.index)\n",
    "print(ser.values)\n",
    "print(ser.value_counts())\n",
    "print(ser.empty)"
   ]
  },
  {
   "cell_type": "code",
   "execution_count": 32,
   "id": "e26aad84",
   "metadata": {},
   "outputs": [
    {
     "name": "stdout",
     "output_type": "stream",
     "text": [
      "Apple      100\n",
      "Kiwi       200\n",
      "Orange     300\n",
      "Graphes    400\n",
      "dtype: int64\n",
      "\n",
      "100\n",
      "\n",
      "100\n",
      "\n",
      "100\n",
      "\n",
      "Apple     100\n",
      "Kiwi      200\n",
      "Orange    300\n",
      "dtype: int64\n",
      "\n",
      "Kiwi       200\n",
      "Orange     300\n",
      "Graphes    400\n",
      "dtype: int64\n",
      "\n"
     ]
    }
   ],
   "source": [
    "# Accessing series data\n",
    "data=[100,200,300,400]\n",
    "ndx=['Apple','Kiwi','Orange','Graphes']\n",
    "ser=pd.Series(data,ndx)\n",
    "print(ser,end=\"\\n\\n\")\n",
    "print(ser.Apple,end=\"\\n\\n\")\n",
    "print(ser.at['Apple'],end=\"\\n\\n\")\n",
    "print(ser.iat[0],end=\"\\n\\n\")\n",
    "print(ser.loc['Apple':'Orange'],end=\"\\n\\n\")\n",
    "print(ser.iloc[1:],end=\"\\n\\n\")"
   ]
  },
  {
   "cell_type": "code",
   "execution_count": 58,
   "id": "6ff5f92f",
   "metadata": {},
   "outputs": [
    {
     "data": {
      "text/plain": [
       "np.float64(300.0)"
      ]
     },
     "execution_count": 58,
     "metadata": {},
     "output_type": "execute_result"
    }
   ],
   "source": [
    "# Series Methods\n",
    "data=[100,200,300,400,500,400,800,100,300,200,100]\n",
    "ser=pd.Series(data)\n",
    "ser.head()\n",
    "ser.tail()\n",
    "ser.describe()\n",
    "ser.count()\n",
    "ser.unique()\n",
    "ser.nunique()\n",
    "len(ser.unique())\n",
    "ser.value_counts()\n",
    "ser.mean(), ser.median(),ser.mode()\n",
    "ser.std(), ser.var()\n",
    "ser.min(),ser.max()\n",
    "ser.sum(),ser.cumsum()\n",
    "ser.prod(),ser.cumprod()\n",
    "ser.quantile()\n"
   ]
  },
  {
   "cell_type": "code",
   "execution_count": null,
   "id": "5bcacdfc",
   "metadata": {},
   "outputs": [],
   "source": []
  }
 ],
 "metadata": {
  "kernelspec": {
   "display_name": ".venv",
   "language": "python",
   "name": "python3"
  },
  "language_info": {
   "codemirror_mode": {
    "name": "ipython",
    "version": 3
   },
   "file_extension": ".py",
   "mimetype": "text/x-python",
   "name": "python",
   "nbconvert_exporter": "python",
   "pygments_lexer": "ipython3",
   "version": "3.11.0"
  }
 },
 "nbformat": 4,
 "nbformat_minor": 5
}
