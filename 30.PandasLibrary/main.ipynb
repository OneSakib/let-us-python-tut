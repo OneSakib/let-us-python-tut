{
 "cells": [
  {
   "cell_type": "code",
   "execution_count": 1,
   "id": "861ed2a4",
   "metadata": {},
   "outputs": [
    {
     "name": "stdout",
     "output_type": "stream",
     "text": [
      "Requirement already satisfied: pandas in c:\\users\\malik\\desktop\\let-us-python-tut\\.venv\\lib\\site-packages (2.3.1)\n",
      "Requirement already satisfied: numpy>=1.23.2 in c:\\users\\malik\\desktop\\let-us-python-tut\\.venv\\lib\\site-packages (from pandas) (2.3.1)\n",
      "Requirement already satisfied: python-dateutil>=2.8.2 in c:\\users\\malik\\desktop\\let-us-python-tut\\.venv\\lib\\site-packages (from pandas) (2.9.0.post0)\n",
      "Requirement already satisfied: pytz>=2020.1 in c:\\users\\malik\\desktop\\let-us-python-tut\\.venv\\lib\\site-packages (from pandas) (2025.2)\n",
      "Requirement already satisfied: tzdata>=2022.7 in c:\\users\\malik\\desktop\\let-us-python-tut\\.venv\\lib\\site-packages (from pandas) (2025.2)\n",
      "Requirement already satisfied: six>=1.5 in c:\\users\\malik\\desktop\\let-us-python-tut\\.venv\\lib\\site-packages (from python-dateutil>=2.8.2->pandas) (1.17.0)\n",
      "Requirement already satisfied: numpy in c:\\users\\malik\\desktop\\let-us-python-tut\\.venv\\lib\\site-packages (2.3.1)\n"
     ]
    }
   ],
   "source": [
    "! pip install pandas\n",
    "! pip install numpy"
   ]
  },
  {
   "cell_type": "code",
   "execution_count": 2,
   "id": "8b60f49a",
   "metadata": {},
   "outputs": [],
   "source": [
    "import numpy as np\n",
    "import pandas as pd"
   ]
  },
  {
   "cell_type": "code",
   "execution_count": 3,
   "id": "ead5898d",
   "metadata": {},
   "outputs": [
    {
     "name": "stdout",
     "output_type": "stream",
     "text": [
      "Series([], dtype: object)\n",
      "\n",
      "0    a\n",
      "1    e\n",
      "2    i\n",
      "3    o\n",
      "4    u\n",
      "dtype: object\n"
     ]
    }
   ],
   "source": [
    "ser1=pd.Series()\n",
    "print(ser1,end=\"\\n\\n\")\n",
    "data=np.array(['a','e','i','o','u'])\n",
    "ser2=pd.Series(data)\n",
    "print(ser2)"
   ]
  },
  {
   "cell_type": "code",
   "execution_count": 4,
   "id": "f3d770c8",
   "metadata": {},
   "outputs": [
    {
     "name": "stdout",
     "output_type": "stream",
     "text": [
      "0      sam\n",
      "1    Prash\n",
      "2      Raj\n",
      "3    Kulki\n",
      "4      Adi\n",
      "dtype: object\n",
      "\n",
      "0      sam\n",
      "1    Prash\n",
      "2      Raj\n",
      "3    Kulki\n",
      "4      Adi\n",
      "dtype: object\n",
      "\n",
      "sam      23\n",
      "Prash    25\n",
      "Raj      90\n",
      "Kulki    66\n",
      "Adi      34\n",
      "dtype: int64\n"
     ]
    }
   ],
   "source": [
    "lst=['sam','Prash','Raj','Kulki','Adi']\n",
    "ser1=pd.Series(lst)\n",
    "print(ser1,end=\"\\n\\n\")\n",
    "tpl=('sam','Prash','Raj','Kulki','Adi')\n",
    "ser2=pd.Series(tpl)\n",
    "print(ser2,end=\"\\n\\n\")\n",
    "dt={'sam':23,'Prash':25,'Raj':90,'Kulki':66,'Adi':34}\n",
    "ser3=pd.Series(dt)\n",
    "print(ser3)\n"
   ]
  },
  {
   "cell_type": "code",
   "execution_count": 5,
   "id": "bcc7f9ee",
   "metadata": {},
   "outputs": [
    {
     "name": "stdout",
     "output_type": "stream",
     "text": [
      "0    10\n",
      "1    20\n",
      "2    30\n",
      "3    40\n",
      "dtype: int64\n",
      "\n",
      "0            10\n",
      "1         Sakib\n",
      "2         Malik\n",
      "3    8954664647\n",
      "dtype: object\n",
      "\n"
     ]
    }
   ],
   "source": [
    "# Same data type\n",
    "data1=[10,20,30,40]\n",
    "data2=[10,'Sakib','Malik',8954664647]\n",
    "ser1=pd.Series(data1)\n",
    "ser2=pd.Series(data2)\n",
    "print(ser1,end=\"\\n\\n\")\n",
    "print(ser2,end=\"\\n\\n\")"
   ]
  },
  {
   "cell_type": "code",
   "execution_count": 6,
   "id": "f93afb04",
   "metadata": {},
   "outputs": [
    {
     "name": "stdout",
     "output_type": "stream",
     "text": [
      "(5,)\n",
      "5\n",
      "1\n",
      "1\n",
      "<U1\n",
      "object\n",
      "RangeIndex(start=0, stop=5, step=1)\n",
      "['a' 'e' 'i' 'o' 'u']\n",
      "a    1\n",
      "e    1\n",
      "i    1\n",
      "o    1\n",
      "u    1\n",
      "Name: count, dtype: int64\n",
      "False\n"
     ]
    }
   ],
   "source": [
    "# Properties\n",
    "data=np.array(['a','e','i','o','u'])\n",
    "ser=pd.Series(data)\n",
    "print(ser.shape)\n",
    "print(ser.size)\n",
    "print(ser.ndim)\n",
    "print(data.ndim)\n",
    "print(data.dtype)\n",
    "print(ser.dtype)\n",
    "# print(data.index)\n",
    "print(ser.index)\n",
    "print(ser.values)\n",
    "print(ser.value_counts())\n",
    "print(ser.empty)"
   ]
  },
  {
   "cell_type": "code",
   "execution_count": 7,
   "id": "e26aad84",
   "metadata": {},
   "outputs": [
    {
     "name": "stdout",
     "output_type": "stream",
     "text": [
      "Apple      100\n",
      "Kiwi       200\n",
      "Orange     300\n",
      "Graphes    400\n",
      "dtype: int64\n",
      "\n",
      "100\n",
      "\n",
      "100\n",
      "\n",
      "100\n",
      "\n",
      "Apple     100\n",
      "Kiwi      200\n",
      "Orange    300\n",
      "dtype: int64\n",
      "\n",
      "Kiwi       200\n",
      "Orange     300\n",
      "Graphes    400\n",
      "dtype: int64\n",
      "\n"
     ]
    }
   ],
   "source": [
    "# Accessing series data\n",
    "data=[100,200,300,400]\n",
    "ndx=['Apple','Kiwi','Orange','Graphes']\n",
    "ser=pd.Series(data,ndx)\n",
    "print(ser,end=\"\\n\\n\")\n",
    "print(ser.Apple,end=\"\\n\\n\")\n",
    "print(ser.at['Apple'],end=\"\\n\\n\")\n",
    "print(ser.iat[0],end=\"\\n\\n\")\n",
    "print(ser.loc['Apple':'Orange'],end=\"\\n\\n\")\n",
    "print(ser.iloc[1:],end=\"\\n\\n\")"
   ]
  },
  {
   "cell_type": "code",
   "execution_count": 17,
   "id": "6ff5f92f",
   "metadata": {},
   "outputs": [
    {
     "data": {
      "text/plain": [
       "np.float64(300.0)"
      ]
     },
     "execution_count": 17,
     "metadata": {},
     "output_type": "execute_result"
    }
   ],
   "source": [
    "# Series Methods\n",
    "keys=['a','b','c','d','e','f','g','h','i','j','k']\n",
    "data=[100,200,300,400,500,400,800,100,300,200,100]\n",
    "ser=pd.Series(data,keys)\n",
    "ser.head()\n",
    "ser.tail()\n",
    "ser.describe()\n",
    "ser.count()\n",
    "ser.unique()\n",
    "ser.nunique()\n",
    "len(ser.unique())\n",
    "ser.value_counts()\n",
    "ser.mean(), ser.median(),ser.mode()\n",
    "ser.std(), ser.var()\n",
    "ser.min(),ser.max()\n",
    "ser.sum(),ser.cumsum()\n",
    "ser.prod(),ser.cumprod()\n",
    "ser.quantile()\n"
   ]
  },
  {
   "cell_type": "code",
   "execution_count": 22,
   "id": "5bcacdfc",
   "metadata": {},
   "outputs": [
    {
     "data": {
      "text/plain": [
       "np.int64(200)"
      ]
     },
     "execution_count": 22,
     "metadata": {},
     "output_type": "execute_result"
    }
   ],
   "source": [
    "#indexing\n",
    "ser.loc['a']\n",
    "ser.iloc[0]\n",
    "ser.at['b']\n",
    "ser.iat[1]"
   ]
  },
  {
   "cell_type": "code",
   "execution_count": 31,
   "id": "a0805ade",
   "metadata": {},
   "outputs": [
    {
     "data": {
      "text/plain": [
       "a    800\n",
       "b    200\n",
       "c    300\n",
       "d    400\n",
       "e    500\n",
       "f    400\n",
       "g    800\n",
       "h    800\n",
       "i    300\n",
       "j    200\n",
       "k    800\n",
       "dtype: int64"
      ]
     },
     "execution_count": 31,
     "metadata": {},
     "output_type": "execute_result"
    }
   ],
   "source": [
    "# Data Cleaning & Missin\n",
    "ser.isnull()\n",
    "ser.isnull().sum()\n",
    "ser.notnull()\n",
    "ser.notnull().sum()\n",
    "ser.dropna()\n",
    "ser.fillna(10)\n",
    "ser.replace(100,800)"
   ]
  },
  {
   "cell_type": "code",
   "execution_count": 38,
   "id": "cf6d93ad",
   "metadata": {},
   "outputs": [],
   "source": [
    "# Element wise opeations\n",
    "df = pd.DataFrame({\n",
    "    'A': [1.235, -2.456, 3.678, -4.987],\n",
    "    'B': [-10, 20, -30, 40]\n",
    "})\n",
    "df['A_Rounded']=df['A'].apply(round)"
   ]
  },
  {
   "cell_type": "code",
   "execution_count": 41,
   "id": "cf9c0bd2",
   "metadata": {},
   "outputs": [],
   "source": [
    "df['Abs']=df['A'].apply(abs)"
   ]
  },
  {
   "cell_type": "code",
   "execution_count": 44,
   "id": "35cfa08a",
   "metadata": {},
   "outputs": [
    {
     "data": {
      "text/html": [
       "<div>\n",
       "<style scoped>\n",
       "    .dataframe tbody tr th:only-of-type {\n",
       "        vertical-align: middle;\n",
       "    }\n",
       "\n",
       "    .dataframe tbody tr th {\n",
       "        vertical-align: top;\n",
       "    }\n",
       "\n",
       "    .dataframe thead th {\n",
       "        text-align: right;\n",
       "    }\n",
       "</style>\n",
       "<table border=\"1\" class=\"dataframe\">\n",
       "  <thead>\n",
       "    <tr style=\"text-align: right;\">\n",
       "      <th></th>\n",
       "      <th>A</th>\n",
       "      <th>B</th>\n",
       "      <th>A_Rounded</th>\n",
       "      <th>Abs</th>\n",
       "      <th>B_abs</th>\n",
       "    </tr>\n",
       "  </thead>\n",
       "  <tbody>\n",
       "    <tr>\n",
       "      <th>0</th>\n",
       "      <td>1.235</td>\n",
       "      <td>-10</td>\n",
       "      <td>1</td>\n",
       "      <td>1.235</td>\n",
       "      <td>1.235</td>\n",
       "    </tr>\n",
       "    <tr>\n",
       "      <th>1</th>\n",
       "      <td>-2.456</td>\n",
       "      <td>20</td>\n",
       "      <td>-2</td>\n",
       "      <td>2.456</td>\n",
       "      <td>2.456</td>\n",
       "    </tr>\n",
       "    <tr>\n",
       "      <th>2</th>\n",
       "      <td>3.678</td>\n",
       "      <td>-30</td>\n",
       "      <td>4</td>\n",
       "      <td>3.678</td>\n",
       "      <td>3.678</td>\n",
       "    </tr>\n",
       "    <tr>\n",
       "      <th>3</th>\n",
       "      <td>-4.987</td>\n",
       "      <td>40</td>\n",
       "      <td>-5</td>\n",
       "      <td>4.987</td>\n",
       "      <td>4.987</td>\n",
       "    </tr>\n",
       "  </tbody>\n",
       "</table>\n",
       "</div>"
      ],
      "text/plain": [
       "       A   B  A_Rounded    Abs  B_abs\n",
       "0  1.235 -10          1  1.235  1.235\n",
       "1 -2.456  20         -2  2.456  2.456\n",
       "2  3.678 -30          4  3.678  3.678\n",
       "3 -4.987  40         -5  4.987  4.987"
      ]
     },
     "execution_count": 44,
     "metadata": {},
     "output_type": "execute_result"
    }
   ],
   "source": [
    "df['B_abs']=df['A'].map(abs)\n",
    "df"
   ]
  },
  {
   "cell_type": "code",
   "execution_count": 46,
   "id": "648e770a",
   "metadata": {},
   "outputs": [
    {
     "data": {
      "text/html": [
       "<div>\n",
       "<style scoped>\n",
       "    .dataframe tbody tr th:only-of-type {\n",
       "        vertical-align: middle;\n",
       "    }\n",
       "\n",
       "    .dataframe tbody tr th {\n",
       "        vertical-align: top;\n",
       "    }\n",
       "\n",
       "    .dataframe thead th {\n",
       "        text-align: right;\n",
       "    }\n",
       "</style>\n",
       "<table border=\"1\" class=\"dataframe\">\n",
       "  <thead>\n",
       "    <tr style=\"text-align: right;\">\n",
       "      <th></th>\n",
       "      <th>Name</th>\n",
       "      <th>Score</th>\n",
       "      <th>Age</th>\n",
       "    </tr>\n",
       "  </thead>\n",
       "  <tbody>\n",
       "    <tr>\n",
       "      <th>d</th>\n",
       "      <td>Alice</td>\n",
       "      <td>88</td>\n",
       "      <td>25</td>\n",
       "    </tr>\n",
       "    <tr>\n",
       "      <th>b</th>\n",
       "      <td>Bob</td>\n",
       "      <td>95</td>\n",
       "      <td>23</td>\n",
       "    </tr>\n",
       "    <tr>\n",
       "      <th>a</th>\n",
       "      <td>Charlie</td>\n",
       "      <td>70</td>\n",
       "      <td>22</td>\n",
       "    </tr>\n",
       "    <tr>\n",
       "      <th>c</th>\n",
       "      <td>David</td>\n",
       "      <td>88</td>\n",
       "      <td>24</td>\n",
       "    </tr>\n",
       "  </tbody>\n",
       "</table>\n",
       "</div>"
      ],
      "text/plain": [
       "      Name  Score  Age\n",
       "d    Alice     88   25\n",
       "b      Bob     95   23\n",
       "a  Charlie     70   22\n",
       "c    David     88   24"
      ]
     },
     "execution_count": 46,
     "metadata": {},
     "output_type": "execute_result"
    }
   ],
   "source": [
    "df = pd.DataFrame({\n",
    "    'Name': ['Alice', 'Bob', 'Charlie', 'David'],\n",
    "    'Score': [88, 95, 70, 88],\n",
    "    'Age': [25, 23, 22, 24]\n",
    "}, index=['d', 'b', 'a', 'c'])\n",
    "df"
   ]
  },
  {
   "cell_type": "code",
   "execution_count": 58,
   "id": "de96cb3e",
   "metadata": {},
   "outputs": [
    {
     "data": {
      "text/plain": [
       "d    2.0\n",
       "b    1.0\n",
       "a    4.0\n",
       "c    2.0\n",
       "Name: Score, dtype: float64"
      ]
     },
     "execution_count": 58,
     "metadata": {},
     "output_type": "execute_result"
    }
   ],
   "source": [
    "df.sort_values(by='Score')\n",
    "df.sort_values(by=['Score','Age'])\n",
    "df.sort_values(by=['Score','Age'],ascending=[False,True])\n",
    "df.sort_index()\n",
    "df['Score'].rank(method='min',ascending=False)"
   ]
  },
  {
   "cell_type": "code",
   "execution_count": 59,
   "id": "f44fa684",
   "metadata": {},
   "outputs": [
    {
     "data": {
      "text/html": [
       "<div>\n",
       "<style scoped>\n",
       "    .dataframe tbody tr th:only-of-type {\n",
       "        vertical-align: middle;\n",
       "    }\n",
       "\n",
       "    .dataframe tbody tr th {\n",
       "        vertical-align: top;\n",
       "    }\n",
       "\n",
       "    .dataframe thead th {\n",
       "        text-align: right;\n",
       "    }\n",
       "</style>\n",
       "<table border=\"1\" class=\"dataframe\">\n",
       "  <thead>\n",
       "    <tr style=\"text-align: right;\">\n",
       "      <th></th>\n",
       "      <th>Name</th>\n",
       "      <th>Email</th>\n",
       "    </tr>\n",
       "  </thead>\n",
       "  <tbody>\n",
       "    <tr>\n",
       "      <th>0</th>\n",
       "      <td>alice</td>\n",
       "      <td>alice@gmail.com</td>\n",
       "    </tr>\n",
       "    <tr>\n",
       "      <th>1</th>\n",
       "      <td>Bob</td>\n",
       "      <td>bob@yahoo.com</td>\n",
       "    </tr>\n",
       "    <tr>\n",
       "      <th>2</th>\n",
       "      <td>charlie</td>\n",
       "      <td>charlie@gmail.com</td>\n",
       "    </tr>\n",
       "    <tr>\n",
       "      <th>3</th>\n",
       "      <td>DAVID</td>\n",
       "      <td>david@hotmail.com</td>\n",
       "    </tr>\n",
       "  </tbody>\n",
       "</table>\n",
       "</div>"
      ],
      "text/plain": [
       "      Name              Email\n",
       "0   alice     alice@gmail.com\n",
       "1      Bob      bob@yahoo.com\n",
       "2  charlie  charlie@gmail.com\n",
       "3    DAVID  david@hotmail.com"
      ]
     },
     "execution_count": 59,
     "metadata": {},
     "output_type": "execute_result"
    }
   ],
   "source": [
    "df = pd.DataFrame({\n",
    "    'Name': [' alice ', 'Bob', 'charlie', 'DAVID'],\n",
    "    'Email': ['alice@gmail.com', 'bob@yahoo.com', 'charlie@gmail.com', 'david@hotmail.com']\n",
    "})\n",
    "\n",
    "df"
   ]
  },
  {
   "cell_type": "code",
   "execution_count": 67,
   "id": "36b97b02",
   "metadata": {},
   "outputs": [
    {
     "data": {
      "text/plain": [
       "0      alice@gmail.com\n",
       "1        bob@yahoo.com\n",
       "2    charlie@gmail.com\n",
       "3    david@hotmail.com\n",
       "Name: Email, dtype: object"
      ]
     },
     "execution_count": 67,
     "metadata": {},
     "output_type": "execute_result"
    }
   ],
   "source": [
    "df['Name'].apply(lambda x: x.upper())\n",
    "df['Name'].str.upper()\n",
    "df['Email'].str.contains('gmail')\n",
    "df['Email'].str.replace('gmail','google')\n",
    "df['Email'].str.split('@').str[0]\n",
    "df['Email'].str.strip()"
   ]
  },
  {
   "cell_type": "code",
   "execution_count": 69,
   "id": "4a03f85a",
   "metadata": {},
   "outputs": [
    {
     "data": {
      "text/html": [
       "<div>\n",
       "<style scoped>\n",
       "    .dataframe tbody tr th:only-of-type {\n",
       "        vertical-align: middle;\n",
       "    }\n",
       "\n",
       "    .dataframe tbody tr th {\n",
       "        vertical-align: top;\n",
       "    }\n",
       "\n",
       "    .dataframe thead th {\n",
       "        text-align: right;\n",
       "    }\n",
       "</style>\n",
       "<table border=\"1\" class=\"dataframe\">\n",
       "  <thead>\n",
       "    <tr style=\"text-align: right;\">\n",
       "      <th></th>\n",
       "      <th>A</th>\n",
       "      <th>B</th>\n",
       "      <th>C</th>\n",
       "    </tr>\n",
       "  </thead>\n",
       "  <tbody>\n",
       "    <tr>\n",
       "      <th>0</th>\n",
       "      <td>10</td>\n",
       "      <td>1</td>\n",
       "      <td>5</td>\n",
       "    </tr>\n",
       "    <tr>\n",
       "      <th>1</th>\n",
       "      <td>20</td>\n",
       "      <td>2</td>\n",
       "      <td>4</td>\n",
       "    </tr>\n",
       "    <tr>\n",
       "      <th>2</th>\n",
       "      <td>30</td>\n",
       "      <td>3</td>\n",
       "      <td>3</td>\n",
       "    </tr>\n",
       "    <tr>\n",
       "      <th>3</th>\n",
       "      <td>40</td>\n",
       "      <td>4</td>\n",
       "      <td>2</td>\n",
       "    </tr>\n",
       "  </tbody>\n",
       "</table>\n",
       "</div>"
      ],
      "text/plain": [
       "    A  B  C\n",
       "0  10  1  5\n",
       "1  20  2  4\n",
       "2  30  3  3\n",
       "3  40  4  2"
      ]
     },
     "execution_count": 69,
     "metadata": {},
     "output_type": "execute_result"
    }
   ],
   "source": [
    "df = pd.DataFrame({\n",
    "    'A': [10, 20, 30, 40],\n",
    "    'B': [1, 2, 3, 4],\n",
    "    'C': [5, 4, 3, 2]\n",
    "})\n",
    "df"
   ]
  },
  {
   "cell_type": "code",
   "execution_count": 79,
   "id": "30cdc5a4",
   "metadata": {},
   "outputs": [
    {
     "data": {
      "text/plain": [
       "np.float64(-16.666666666666664)"
      ]
     },
     "execution_count": 79,
     "metadata": {},
     "output_type": "execute_result"
    }
   ],
   "source": [
    "df['A'].add(df['B'])\n",
    "df['A'].sub(df['B'])\n",
    "df['A'].mul(df[\"C\"])\n",
    "df['A'].div(df['B'])\n",
    "df['A'].pow(df['B'])\n",
    "df['A'].mod(df['C'])\n",
    "df['A'].corr(df['C'])\n",
    "df['B'].corr(df['C'])\n",
    "df['A'].cov(df['C'])"
   ]
  },
  {
   "cell_type": "code",
   "execution_count": 99,
   "id": "8aa690b5",
   "metadata": {},
   "outputs": [
    {
     "name": "stdout",
     "output_type": "stream",
     "text": [
      "<class 'pandas.core.frame.DataFrame'>\n",
      "RangeIndex: 5 entries, 0 to 4\n",
      "Data columns (total 2 columns):\n",
      " #   Column  Non-Null Count  Dtype \n",
      "---  ------  --------------  ----- \n",
      " 0   Name    5 non-null      object\n",
      " 1   Score   5 non-null      int64 \n",
      "dtypes: int64(1), object(1)\n",
      "memory usage: 208.0+ bytes\n"
     ]
    },
    {
     "data": {
      "text/html": [
       "<div>\n",
       "<style scoped>\n",
       "    .dataframe tbody tr th:only-of-type {\n",
       "        vertical-align: middle;\n",
       "    }\n",
       "\n",
       "    .dataframe tbody tr th {\n",
       "        vertical-align: top;\n",
       "    }\n",
       "\n",
       "    .dataframe thead th {\n",
       "        text-align: right;\n",
       "    }\n",
       "</style>\n",
       "<table border=\"1\" class=\"dataframe\">\n",
       "  <thead>\n",
       "    <tr style=\"text-align: right;\">\n",
       "      <th></th>\n",
       "      <th>Name</th>\n",
       "      <th>Score</th>\n",
       "    </tr>\n",
       "  </thead>\n",
       "  <tbody>\n",
       "    <tr>\n",
       "      <th>2</th>\n",
       "      <td>Alice</td>\n",
       "      <td>85</td>\n",
       "    </tr>\n",
       "    <tr>\n",
       "      <th>4</th>\n",
       "      <td>Bob</td>\n",
       "      <td>90</td>\n",
       "    </tr>\n",
       "  </tbody>\n",
       "</table>\n",
       "</div>"
      ],
      "text/plain": [
       "    Name  Score\n",
       "2  Alice     85\n",
       "4    Bob     90"
      ]
     },
     "execution_count": 99,
     "metadata": {},
     "output_type": "execute_result"
    }
   ],
   "source": [
    "# Handlijg Duplicated\n",
    "df = pd.DataFrame({\n",
    "    'Name': ['Alice', 'Bob', 'Alice', 'David', 'Bob'],\n",
    "    'Score': [85, 90, 85, 95, 90]\n",
    "})\n",
    "\n",
    "df\n",
    "df.describe()\n",
    "df.info()\n",
    "df.duplicated()\n",
    "df['Name'].duplicated()\n",
    "df['Score'].duplicated()\n",
    "df.drop_duplicates()\n",
    "df.drop_duplicates(subset='Name')\n",
    "df.drop_duplicates(subset='Score',keep='last')\n",
    "df[df.duplicated()]\n",
    "df[df.duplicated(subset='Name')]"
   ]
  },
  {
   "cell_type": "code",
   "execution_count": 102,
   "id": "5d736216",
   "metadata": {},
   "outputs": [
    {
     "data": {
      "text/html": [
       "<div>\n",
       "<style scoped>\n",
       "    .dataframe tbody tr th:only-of-type {\n",
       "        vertical-align: middle;\n",
       "    }\n",
       "\n",
       "    .dataframe tbody tr th {\n",
       "        vertical-align: top;\n",
       "    }\n",
       "\n",
       "    .dataframe thead th {\n",
       "        text-align: right;\n",
       "    }\n",
       "</style>\n",
       "<table border=\"1\" class=\"dataframe\">\n",
       "  <thead>\n",
       "    <tr style=\"text-align: right;\">\n",
       "      <th></th>\n",
       "      <th>Math</th>\n",
       "      <th>Science</th>\n",
       "      <th>English</th>\n",
       "    </tr>\n",
       "  </thead>\n",
       "  <tbody>\n",
       "    <tr>\n",
       "      <th>0</th>\n",
       "      <td>90</td>\n",
       "      <td>88</td>\n",
       "      <td>92</td>\n",
       "    </tr>\n",
       "    <tr>\n",
       "      <th>1</th>\n",
       "      <td>80</td>\n",
       "      <td>76</td>\n",
       "      <td>85</td>\n",
       "    </tr>\n",
       "    <tr>\n",
       "      <th>2</th>\n",
       "      <td>85</td>\n",
       "      <td>90</td>\n",
       "      <td>88</td>\n",
       "    </tr>\n",
       "    <tr>\n",
       "      <th>3</th>\n",
       "      <td>70</td>\n",
       "      <td>75</td>\n",
       "      <td>80</td>\n",
       "    </tr>\n",
       "  </tbody>\n",
       "</table>\n",
       "</div>"
      ],
      "text/plain": [
       "   Math  Science  English\n",
       "0    90       88       92\n",
       "1    80       76       85\n",
       "2    85       90       88\n",
       "3    70       75       80"
      ]
     },
     "execution_count": 102,
     "metadata": {},
     "output_type": "execute_result"
    }
   ],
   "source": [
    "# Aggregation Function\n",
    "df = pd.DataFrame({\n",
    "    'Math': [90, 80, 85, 70],\n",
    "    'Science': [88, 76, 90, 75],\n",
    "    'English': [92, 85, 88, 80]\n",
    "})\n",
    "df"
   ]
  },
  {
   "cell_type": "code",
   "execution_count": 116,
   "id": "6c05155c",
   "metadata": {},
   "outputs": [
    {
     "name": "stdout",
     "output_type": "stream",
     "text": [
      "<class 'pandas.core.frame.DataFrame'>\n",
      "RangeIndex: 4 entries, 0 to 3\n",
      "Data columns (total 3 columns):\n",
      " #   Column   Non-Null Count  Dtype\n",
      "---  ------   --------------  -----\n",
      " 0   Math     4 non-null      int64\n",
      " 1   Science  4 non-null      int64\n",
      " 2   English  4 non-null      int64\n",
      "dtypes: int64(3)\n",
      "memory usage: 224.0 bytes\n"
     ]
    },
    {
     "data": {
      "text/plain": [
       "np.float64(8.539125638299666)"
      ]
     },
     "execution_count": 116,
     "metadata": {},
     "output_type": "execute_result"
    }
   ],
   "source": [
    "df.describe()\n",
    "df.info()\n",
    "df.sum()\n",
    "df.min()\n",
    "df['Math'].min()\n",
    "df.max()\n",
    "df['Math'].max()\n",
    "df['Math'].sum()\n",
    "df.median()\n",
    "df[\"Math\"].median()\n",
    "df.std()\n",
    "df['Math'].std()"
   ]
  },
  {
   "cell_type": "code",
   "execution_count": null,
   "id": "569471c4",
   "metadata": {},
   "outputs": [],
   "source": []
  }
 ],
 "metadata": {
  "kernelspec": {
   "display_name": ".venv",
   "language": "python",
   "name": "python3"
  },
  "language_info": {
   "codemirror_mode": {
    "name": "ipython",
    "version": 3
   },
   "file_extension": ".py",
   "mimetype": "text/x-python",
   "name": "python",
   "nbconvert_exporter": "python",
   "pygments_lexer": "ipython3",
   "version": "3.11.0"
  }
 },
 "nbformat": 4,
 "nbformat_minor": 5
}
