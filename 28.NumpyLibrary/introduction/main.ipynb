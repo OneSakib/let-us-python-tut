{
 "cells": [
  {
   "cell_type": "code",
   "execution_count": 8,
   "id": "fc1b0690",
   "metadata": {},
   "outputs": [],
   "source": [
    "import numpy as np"
   ]
  },
  {
   "cell_type": "code",
   "execution_count": 9,
   "id": "551a62d2",
   "metadata": {},
   "outputs": [
    {
     "data": {
      "text/plain": [
       "array([[1, 2, 3],\n",
       "       [4, 5, 6]])"
      ]
     },
     "execution_count": 9,
     "metadata": {},
     "output_type": "execute_result"
    }
   ],
   "source": [
    "a1=np.array([[1,2,3],[4,5,6]])\n",
    "a1"
   ]
  },
  {
   "cell_type": "code",
   "execution_count": 10,
   "id": "296bc2eb",
   "metadata": {},
   "outputs": [
    {
     "data": {
      "text/plain": [
       "array([[1.+0.j, 2.+0.j],\n",
       "       [3.+0.j, 4.+0.j]])"
      ]
     },
     "execution_count": 10,
     "metadata": {},
     "output_type": "execute_result"
    }
   ],
   "source": [
    "c=np.array([[1,2],[3,4]],complex)\n",
    "c"
   ]
  },
  {
   "cell_type": "code",
   "execution_count": 11,
   "id": "f1a4ee89",
   "metadata": {},
   "outputs": [
    {
     "data": {
      "text/plain": [
       "(array([[1.50183978e-311, 2.47032823e-322, 0.00000000e+000,\n",
       "         0.00000000e+000],\n",
       "        [1.11260619e-306, 3.76231868e+174, 6.81758538e-091,\n",
       "         1.02290495e+166],\n",
       "        [9.98570585e-048, 1.38347875e-047, 3.99910963e+252,\n",
       "         9.96668435e-047]]),\n",
       " array([[0., 0., 0., 0.],\n",
       "        [0., 0., 0., 0.],\n",
       "        [0., 0., 0., 0.]]),\n",
       " array([[1., 1., 1., 1.],\n",
       "        [1., 1., 1., 1.],\n",
       "        [1., 1., 1., 1.]]),\n",
       " array([[7, 7, 7, 7],\n",
       "        [7, 7, 7, 7],\n",
       "        [7, 7, 7, 7]]))"
      ]
     },
     "execution_count": 11,
     "metadata": {},
     "output_type": "execute_result"
    }
   ],
   "source": [
    "a1=np.empty((3,4))\n",
    "a2=np.zeros((3,4))\n",
    "a3=np.ones((3,4))\n",
    "a4=np.full((3,4),7)\n",
    "a1,a2,a3,a4"
   ]
  },
  {
   "cell_type": "code",
   "execution_count": 12,
   "id": "430d926e",
   "metadata": {},
   "outputs": [
    {
     "data": {
      "text/plain": [
       "(array([0.62071933, 0.72660861, 0.13162866, 0.55897482]),\n",
       " array([0, 1, 2, 3, 4]),\n",
       " array([ 1,  3,  5,  7,  9, 11, 13, 15, 17, 19]),\n",
       " array([0. , 0.4, 0.8, 1.2, 1.6, 2. ]))"
      ]
     },
     "execution_count": 12,
     "metadata": {},
     "output_type": "execute_result"
    }
   ],
   "source": [
    "a1=np.random.random((4))\n",
    "a2=np.arange(5)\n",
    "a3=np.arange(1,20,2)\n",
    "a4=np.linspace(0,2,6) # create and elements 6 element the range between 0 to 2, with fixed steps.\n",
    "a1,a2,a3,a4"
   ]
  },
  {
   "cell_type": "code",
   "execution_count": 13,
   "id": "7d49cc51",
   "metadata": {},
   "outputs": [
    {
     "data": {
      "text/plain": [
       "(array([[1., 0., 0.],\n",
       "        [0., 1., 0.],\n",
       "        [0., 0., 1.]]),\n",
       " array([[1., 0., 0.],\n",
       "        [0., 1., 0.],\n",
       "        [0., 0., 1.]]))"
      ]
     },
     "execution_count": 13,
     "metadata": {},
     "output_type": "execute_result"
    }
   ],
   "source": [
    "a1=np.eye(3)\n",
    "a2=np.identity(3)\n",
    "a2,a2"
   ]
  },
  {
   "cell_type": "code",
   "execution_count": 14,
   "id": "001b0e8b",
   "metadata": {},
   "outputs": [
    {
     "name": "stdout",
     "output_type": "stream",
     "text": [
      "int32\n",
      "float64\n",
      "4\n",
      "8\n",
      "16\n",
      "32\n",
      "<memory at 0x000002C3C746BDC0>\n",
      "(4,)\n",
      "<memory at 0x000002C3C746BDC0>\n",
      "(8,)\n"
     ]
    }
   ],
   "source": [
    "a1=np.array([1,2,3,4],np.int32)\n",
    "a2=np.array([1.1,2.2,3.3,4.4])\n",
    "print(a1.dtype)\n",
    "print(a2.dtype)\n",
    "print(a1.itemsize)\n",
    "print(a2.itemsize)\n",
    "print(a1.nbytes)\n",
    "print(a2.nbytes)\n",
    "print(a1.data)\n",
    "print(a1.strides)\n",
    "print(a2.data)\n",
    "print(a2.strides)\n"
   ]
  },
  {
   "cell_type": "code",
   "execution_count": 15,
   "id": "910b5daa",
   "metadata": {},
   "outputs": [
    {
     "name": "stdout",
     "output_type": "stream",
     "text": [
      "1\n",
      "2\n",
      "(4,)\n",
      "(2, 4)\n",
      "4\n",
      "8\n"
     ]
    }
   ],
   "source": [
    "a1=np.array([1,2,3,4])\n",
    "a2=np.array([[1,2,3,4],[5,6,7,8]])\n",
    "print(a1.ndim)\n",
    "print(a2.ndim)\n",
    "print(a1.shape)\n",
    "print(a2.shape)\n",
    "print(a1.size)\n",
    "print(a2.size)\n",
    "\n"
   ]
  },
  {
   "cell_type": "code",
   "execution_count": 16,
   "id": "9994374c",
   "metadata": {},
   "outputs": [
    {
     "name": "stdout",
     "output_type": "stream",
     "text": [
      "[[10  2  3  4]\n",
      " [ 5  6  7  8]]\n",
      "\n",
      "[[1 1 1 1]\n",
      " [2 2 2 2]]\n",
      "\n",
      "[[11  3  4  5]\n",
      " [ 7  8  9 10]]\n",
      "\n",
      "[[10  2  3  4]\n",
      " [10 12 14 16]]\n",
      "\n",
      "[[9 1 2 3]\n",
      " [3 4 5 6]]\n",
      "\n",
      "[[10.   2.   3.   4. ]\n",
      " [ 2.5  3.   3.5  4. ]]\n",
      "\n",
      "[[0 0 0 0]\n",
      " [1 0 1 0]]\n",
      "\n",
      "[[10  2  3  4]\n",
      " [25 36 49 64]]\n",
      "\n"
     ]
    }
   ],
   "source": [
    "# Arithmatic Operations\n",
    "\n",
    "\n",
    "a1=np.array([[10,2,3,4],[5,6,7,8]])\n",
    "a2=np.array([[1,1,1,1],[2,2,2,2]])\n",
    "a3=a1+a2\n",
    "a4=a1*a2\n",
    "a5=a1-a2\n",
    "a6=a1/a2\n",
    "a7=a1%a2\n",
    "a8=a1**a2\n",
    "print(a1,end='\\n\\n')\n",
    "print(a2,end='\\n\\n')\n",
    "print(a3,end='\\n\\n')\n",
    "print(a4,end=\"\\n\\n\")\n",
    "print(a5,end=\"\\n\\n\")\n",
    "print(a6,end=\"\\n\\n\")\n",
    "print(a7,end=\"\\n\\n\")\n",
    "print(a8,end=\"\\n\\n\")"
   ]
  },
  {
   "cell_type": "code",
   "execution_count": 17,
   "id": "fa33f2fd",
   "metadata": {},
   "outputs": [
    {
     "name": "stdout",
     "output_type": "stream",
     "text": [
      "[[1 2 3]\n",
      " [4 5 6]]\n",
      "\n",
      "21\n",
      "1\n",
      "6\n",
      "[4 5 6]\n",
      "[3 6]\n",
      "[5 7 9]\n",
      "[ 6 15]\n",
      "\n",
      "[[1 2 3]\n",
      " [5 7 9]]\n",
      "3.5\n",
      "3.5\n",
      "[[1. 1.]\n",
      " [1. 1.]]\n",
      "1.707825127659933\n"
     ]
    }
   ],
   "source": [
    "a=np.array([[1,2,3],[4,5,6]])\n",
    "print(a,end=\"\\n\\n\")\n",
    "print(a.sum())\n",
    "print(a.min())\n",
    "print(a.max())\n",
    "print(a.max(axis=0)) # row\n",
    "print(a.max(axis=1)) # column\n",
    "print(a.sum(axis=0))\n",
    "print(a.sum(axis=1))\n",
    "print()\n",
    "print(a.cumsum(axis=0))\n",
    "print(np.mean(a))\n",
    "print(np.median(a))\n",
    "print(np.corrcoef(a))\n",
    "print(np.std(a))"
   ]
  },
  {
   "cell_type": "code",
   "execution_count": 18,
   "id": "18063ba3",
   "metadata": {},
   "outputs": [
    {
     "name": "stdout",
     "output_type": "stream",
     "text": [
      "[[10  2  3  4]\n",
      " [ 5  6  7  8]]\n",
      "[[1 1 1 1]\n",
      " [2 2 2 2]]\n",
      "[[10  2  3  4]\n",
      " [10 12 14 16]]\n",
      "[[19 22]\n",
      " [43 50]]\n",
      "[[19 22]\n",
      " [43 50]]\n",
      "[[19 22]\n",
      " [43 50]]\n"
     ]
    }
   ],
   "source": [
    "#Linear alrebra operations\n",
    "print(a1)\n",
    "print(a2)\n",
    "a3=a1*a2\n",
    "A = np.array([[1, 2],\n",
    "              [3, 4]])\n",
    "\n",
    "B = np.array([[5, 6],\n",
    "              [7, 8]])\n",
    "\n",
    "a4 = A @ B\n",
    "a5=A.dot(B)\n",
    "a6=np.dot(A,B)\n",
    "print(a3)\n",
    "print(a4)\n",
    "print(a5)\n",
    "print(a6)"
   ]
  },
  {
   "cell_type": "code",
   "execution_count": 19,
   "id": "77640575",
   "metadata": {},
   "outputs": [
    {
     "name": "stdout",
     "output_type": "stream",
     "text": [
      "Original [[1 2 3 4]\n",
      " [5 6 7 8]]\n",
      "[[1 5]\n",
      " [2 6]\n",
      " [3 7]\n",
      " [4 8]]\n",
      "[[1 5]\n",
      " [2 6]\n",
      " [3 7]\n",
      " [4 8]]\n"
     ]
    }
   ],
   "source": [
    "a1=np.array([[1,2,3,4],[5,6,7,8]])\n",
    "print(\"Original\",a1)\n",
    "a2=a1.transpose()\n",
    "print(a2)\n",
    "a3=np.transpose(a1)\n",
    "print(a3)"
   ]
  },
  {
   "cell_type": "code",
   "execution_count": 20,
   "id": "f33f31e8",
   "metadata": {},
   "outputs": [
    {
     "name": "stdout",
     "output_type": "stream",
     "text": [
      "[[1 2 3]\n",
      " [4 5 6]\n",
      " [7 8 9]]\n",
      "15\n",
      "[[1 2 3 4]\n",
      " [5 6 7 8]]\n",
      "7\n"
     ]
    }
   ],
   "source": [
    "# Sum of diagonal elements\n",
    "a1=np.array([[1,2,3],[4,5,6],[7,8,9]])\n",
    "a2=np.array([[1,2,3,4],[5,6,7,8]])\n",
    "s=np.trace(a1)\n",
    "s2=np.trace(a2)\n",
    "print(a1)\n",
    "print(s)\n",
    "print(a2)\n",
    "print(s2)"
   ]
  },
  {
   "cell_type": "code",
   "execution_count": 21,
   "id": "a615d4bc",
   "metadata": {},
   "outputs": [
    {
     "name": "stdout",
     "output_type": "stream",
     "text": [
      "[[1 2]\n",
      " [3 4]]\n",
      "[[-2.   1. ]\n",
      " [ 1.5 -0.5]]\n"
     ]
    }
   ],
   "source": [
    "a=np.array([[1,2],[3,4]])\n",
    "b=np.linalg.inv(a)\n",
    "print(a)\n",
    "print(b)"
   ]
  },
  {
   "cell_type": "code",
   "execution_count": 22,
   "id": "7264d7bb",
   "metadata": {},
   "outputs": [
    {
     "name": "stdout",
     "output_type": "stream",
     "text": [
      "[[3 1]\n",
      " [1 2]]\n",
      "[9 8]\n",
      "[2. 3.]\n"
     ]
    }
   ],
   "source": [
    "# Linear simultaneous equation\n",
    "a=np.array([[3,1],[1,2]])\n",
    "b=np.array([9,8])\n",
    "x=np.linalg.solve(a,b)\n",
    "print(a)\n",
    "print(b)\n",
    "print(x)"
   ]
  },
  {
   "cell_type": "code",
   "execution_count": 23,
   "id": "133e1094",
   "metadata": {},
   "outputs": [
    {
     "name": "stdout",
     "output_type": "stream",
     "text": [
      "[[10  2  3  4]\n",
      " [ 5  6  7  8]]\n",
      "[[1 1 1 1]\n",
      " [2 2 2 2]]\n",
      "[[0 0 1 0]\n",
      " [0 2 2 0]]\n",
      "[[11  3  3  5]\n",
      " [ 7  6  7 10]]\n",
      "[[11  3  2  5]\n",
      " [ 7  4  5 10]]\n",
      "[[-11  -3  -4  -5]\n",
      " [ -6  -7  -8  -9]]\n",
      "[[80 16 24 32]\n",
      " [40 48 56 64]]\n",
      "[[2 0 0 1]\n",
      " [1 1 1 2]]\n"
     ]
    }
   ],
   "source": [
    "# Bitwise Opeations\n",
    "a1=np.array([[10,2,3,4],[5,6,7,8]])\n",
    "a2=np.array([[1,1,1,1],[2,2,2,2]])\n",
    "a3=np.bitwise_and(a1,a2)\n",
    "a4=np.bitwise_or(a1,a2)\n",
    "a5=np.bitwise_xor(a1,a2)\n",
    "a6=np.invert(a1)\n",
    "a7=np.left_shift(a1,3)\n",
    "a8=np.right_shift(a1,2)\n",
    "print(a1)\n",
    "print(a2)\n",
    "print(a3)\n",
    "print(a4)\n",
    "print(a5)\n",
    "print(a6)\n",
    "print(a7)\n",
    "print(a8)"
   ]
  },
  {
   "cell_type": "code",
   "execution_count": 31,
   "id": "6b119b04",
   "metadata": {},
   "outputs": [
    {
     "name": "stdout",
     "output_type": "stream",
     "text": [
      "True\n",
      "True\n",
      "[[100   5   7]\n",
      " [  1   5   2]]\n",
      "[[100   5   7]\n",
      " [  1   5   2]]\n",
      "False\n",
      "False\n",
      "[[56  5  7]\n",
      " [ 1  5  2]]\n",
      "[[56  5  7]\n",
      " [ 1  5  2]]\n",
      "False\n",
      "False\n",
      "[[56  5  7]\n",
      " [ 1  5  2]]\n",
      "[[98  5  7]\n",
      " [ 1  5  2]]\n"
     ]
    }
   ],
   "source": [
    "# Copy\n",
    "a=np.array([[3,5,7],[1,5,2]])\n",
    "b=a\n",
    "print(b is a)\n",
    "print(a is b)\n",
    "b[0][0]=100\n",
    "print(a)\n",
    "print(b)\n",
    "v=a.view()\n",
    "print(a is v)\n",
    "print(v is a)\n",
    "v[0][0]=56\n",
    "print(a)\n",
    "print(v)\n",
    "\n",
    "d=np.copy(a)\n",
    "print(a is d)\n",
    "print(d is a)\n",
    "d[0][0]=98\n",
    "print(a)\n",
    "print(d)"
   ]
  },
  {
   "cell_type": "code",
   "execution_count": 35,
   "id": "8dae3108",
   "metadata": {},
   "outputs": [
    {
     "name": "stdout",
     "output_type": "stream",
     "text": [
      "[[3 7 6]\n",
      " [1 5 2]]\n",
      "[[3 6 7]\n",
      " [1 2 5]]\n",
      "[[3 7 6]\n",
      " [1 5 2]]\n",
      "[[1 5 2]\n",
      " [3 7 6]]\n"
     ]
    }
   ],
   "source": [
    "# Sorting\n",
    "a=np.array([[3,7,6],[1,5,2]])\n",
    "b=np.array([[3,7,6],[1,5,2]])\n",
    "print(a)\n",
    "a.sort()\n",
    "print(a)\n",
    "print(b)\n",
    "b.sort(axis=0) # column wise default row wise.\n",
    "print(b)"
   ]
  },
  {
   "cell_type": "code",
   "execution_count": null,
   "id": "f80309dd",
   "metadata": {},
   "outputs": [
    {
     "name": "stdout",
     "output_type": "stream",
     "text": [
      "[[3 7 6]\n",
      " [1 5 2]]\n",
      "[[False  True  True]\n",
      " [False False False]]\n",
      "[[3 1 2]\n",
      " [1 7 2]]\n",
      "[[False  True  True]\n",
      " [False False False]]\n"
     ]
    }
   ],
   "source": [
    "# Compresion\n",
    "a=np.array([[3,7,6],[1,5,2]])\n",
    "print(a)\n",
    "print(a>5)\n",
    "\n",
    "b=np.array([[3,1,2],[1,7,2]])\n",
    "print(b)\n",
    "print(a>b)\n"
   ]
  },
  {
   "cell_type": "code",
   "execution_count": 42,
   "id": "33405d1d",
   "metadata": {},
   "outputs": [
    {
     "name": "stdout",
     "output_type": "stream",
     "text": [
      "[[ True  True  True]\n",
      " [ True  True  True]]\n",
      "True\n",
      "False\n"
     ]
    }
   ],
   "source": [
    "# Compresion\n",
    "a=np.array([[3,7,6],[1,5,2]])\n",
    "b=np.array([[3,7,6],[1,5,2]])\n",
    "c=np.array([[3,7],[6,1],[5,2]])\n",
    "print(a==b)\n",
    "print(np.array_equal(a,b))\n",
    "# print(a==c) gives error\n",
    "print(np.array_equal(a,c))"
   ]
  },
  {
   "cell_type": "code",
   "execution_count": 51,
   "id": "f95f5a33",
   "metadata": {},
   "outputs": [
    {
     "name": "stdout",
     "output_type": "stream",
     "text": [
      "3\n",
      "5\n",
      "[6 1 5]\n",
      "6\n",
      "[3 7]\n",
      "[[3 7 6 9 8]\n",
      " [1 5 9 2 4]\n",
      " [0 0 3 1 5]]\n",
      "[[9 2]\n",
      " [3 1]]\n"
     ]
    }
   ],
   "source": [
    "# indexing and slicing\n",
    "a=np.array([3,7,6,1,5,2])\n",
    "print(a[0])\n",
    "b=np.array([[1,5,2],[3,7,6]])\n",
    "print(b[0][1])\n",
    "print(a[2:5])\n",
    "print(a[-4])\n",
    "print(a[:-4])\n",
    "c=np.array([[3,7,6,9,8],[1,5,9,2,4],[0,0,3,1,5]])\n",
    "print(c)\n",
    "print(c[1:3,2:4])"
   ]
  },
  {
   "cell_type": "code",
   "execution_count": 57,
   "id": "fd14cfef",
   "metadata": {},
   "outputs": [
    {
     "name": "stdout",
     "output_type": "stream",
     "text": [
      "[[3 7 6 9]\n",
      " [1 5 2 4]\n",
      " [0 3 1 5]]\n",
      "(3, 4)\n",
      "[[3 7 6 9 1 5]\n",
      " [2 4 0 3 1 5]]\n",
      "[[3 7 6]\n",
      " [9 1 5]\n",
      " [2 4 0]\n",
      " [3 1 5]]\n"
     ]
    }
   ],
   "source": [
    "a=np.array([[3,7,6,9],[1,5,2,4],[0,3,1,5]]) #3x4\n",
    "print(a)\n",
    "print(a.shape)\n",
    "b=a.reshape(2,6)\n",
    "print(b)\n",
    "c=a.reshape(4,-1) # -1 means auto calcucalte like 3x4=12 so first 4 and second is 12/4= 3 4x3 matrix\n",
    "print(c)"
   ]
  },
  {
   "cell_type": "code",
   "execution_count": 59,
   "id": "cfd06dac",
   "metadata": {},
   "outputs": [
    {
     "name": "stdout",
     "output_type": "stream",
     "text": [
      "[3 7 6 9 1 5 2 4 0 3 1 5]\n"
     ]
    }
   ],
   "source": [
    "# Convert to flat aarray\n",
    "a=np.array([[3,7,6,9],[1,5,2,4],[0,3,1,5]]) #3x4\n",
    "b=a.ravel()\n",
    "print(b)"
   ]
  },
  {
   "cell_type": "code",
   "execution_count": 61,
   "id": "723c4262",
   "metadata": {},
   "outputs": [
    {
     "name": "stdout",
     "output_type": "stream",
     "text": [
      "[[3 7 6 9]\n",
      " [1 5 2 4]]\n",
      "[[0 3 1 5]\n",
      " [1 1 1 1]]\n",
      "\n",
      "[[3 7 6 9]\n",
      " [1 5 2 4]\n",
      " [0 3 1 5]\n",
      " [1 1 1 1]]\n",
      "\n",
      "[[3 7 6 9 0 3 1 5]\n",
      " [1 5 2 4 1 1 1 1]]\n"
     ]
    }
   ],
   "source": [
    "# Append\n",
    "a=np.array([[3,7,6,9],[1,5,2,4]])\n",
    "b=np.array([[0,3,1,5],[1,1,1,1]])\n",
    "print(a)\n",
    "print(b)\n",
    "c=np.append(a,b,axis=0)\n",
    "d=np.append(a,b,axis=1)\n",
    "print()\n",
    "print(c)\n",
    "print()\n",
    "print(d)\n"
   ]
  },
  {
   "cell_type": "code",
   "execution_count": null,
   "id": "9f3aa8ea",
   "metadata": {},
   "outputs": [],
   "source": []
  }
 ],
 "metadata": {
  "kernelspec": {
   "display_name": ".venv",
   "language": "python",
   "name": "python3"
  },
  "language_info": {
   "codemirror_mode": {
    "name": "ipython",
    "version": 3
   },
   "file_extension": ".py",
   "mimetype": "text/x-python",
   "name": "python",
   "nbconvert_exporter": "python",
   "pygments_lexer": "ipython3",
   "version": "3.11.0"
  }
 },
 "nbformat": 4,
 "nbformat_minor": 5
}
