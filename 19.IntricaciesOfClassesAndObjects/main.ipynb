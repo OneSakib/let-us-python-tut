{
 "cells": [
  {
   "cell_type": "code",
   "execution_count": null,
   "id": "97e3f004",
   "metadata": {},
   "outputs": [],
   "source": [
    "# Opeaator Overloading\n",
    "\n",
    "class Complex:\n",
    "    def __init__(self, r=0.0, i=0.0) -> None:\n",
    "        self.__real = r\n",
    "        self.__imag = i\n",
    "\n",
    "    def __add__(self, other):\n",
    "        z = Complex()\n",
    "        z.__real = self.__real+other.__real\n",
    "        z.__imag = self.__imag+other.__imag\n",
    "        return z\n",
    "\n",
    "    def __sub__(self, other):\n",
    "        z = Complex()\n",
    "        z.__real = self.__real-other.__real\n",
    "        z.__imag = self.__imag-other.__imag\n",
    "        return z\n",
    "\n",
    "    def display(self):\n",
    "        print(self.__real, self.__imag)\n",
    "\n",
    "c1=Complex(1.1,0.2)\n",
    "c2=Complex(1.1,0.2)\n",
    "c3=c1+c2\n",
    "print(c3.display())\n",
    "\n",
    "c4=c1-c2\n",
    "print(c4.display())\n"
   ]
  }
 ],
 "metadata": {
  "language_info": {
   "name": "python"
  }
 },
 "nbformat": 4,
 "nbformat_minor": 5
}
