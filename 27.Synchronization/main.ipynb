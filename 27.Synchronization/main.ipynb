{
 "cells": [
  {
   "cell_type": "code",
   "execution_count": null,
   "id": "da17f4fc",
   "metadata": {},
   "outputs": [],
   "source": [
    "import threading\n",
    "# lck = threading.Lock()\n",
    "# lck.acquire()\n",
    "# lck.release()\n",
    "import time\n",
    "\n",
    "\n",
    "def fun1():\n",
    "    print(\"Function 1 is Running\")\n",
    "    count = 0\n",
    "    while count < 10:\n",
    "        print(\"Function 1 : {}\".format(count), end=\"\\n\")\n",
    "        ev.wait()\n",
    "        print(\"Function 1 is Cleared \\n\", end=\"\\n\")\n",
    "        ev.clear()\n",
    "        count += 1\n",
    "\n",
    "\n",
    "def fun2():\n",
    "    print(\"Function 2 is Running\")\n",
    "    count = 0\n",
    "    while count < 10:\n",
    "        print(\"Function 2 : {}\".format(count), end=\"\\n\")\n",
    "        time.sleep(1)\n",
    "        ev.set()\n",
    "        print(\"Function 2 is Cleared\", end=\"\\n\")\n",
    "        count += 1\n",
    "\n",
    "\n",
    "ev = threading.Event()\n",
    "th1 = threading.Thread(target=fun1)\n",
    "th2 = threading.Thread(target=fun2)\n",
    "th1.start()\n",
    "th2.start()\n"
   ]
  }
 ],
 "metadata": {
  "language_info": {
   "name": "python"
  }
 },
 "nbformat": 4,
 "nbformat_minor": 5
}
